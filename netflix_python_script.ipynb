{
 "cells": [
  {
   "cell_type": "code",
   "execution_count": 1,
   "id": "3bd8e597-21bb-4d0b-8468-a190df5cbe54",
   "metadata": {},
   "outputs": [
    {
     "name": "stdout",
     "output_type": "stream",
     "text": [
      "Requirement already satisfied: kaggle in c:\\users\\tarun\\anaconda3\\lib\\site-packages (1.6.17)\n",
      "Requirement already satisfied: six>=1.10 in c:\\users\\tarun\\anaconda3\\lib\\site-packages (from kaggle) (1.16.0)\n",
      "Requirement already satisfied: certifi>=2023.7.22 in c:\\users\\tarun\\anaconda3\\lib\\site-packages (from kaggle) (2024.2.2)\n",
      "Requirement already satisfied: python-dateutil in c:\\users\\tarun\\anaconda3\\lib\\site-packages (from kaggle) (2.8.2)\n",
      "Requirement already satisfied: requests in c:\\users\\tarun\\anaconda3\\lib\\site-packages (from kaggle) (2.31.0)\n",
      "Requirement already satisfied: tqdm in c:\\users\\tarun\\anaconda3\\lib\\site-packages (from kaggle) (4.65.0)\n",
      "Requirement already satisfied: python-slugify in c:\\users\\tarun\\anaconda3\\lib\\site-packages (from kaggle) (5.0.2)\n",
      "Requirement already satisfied: urllib3 in c:\\users\\tarun\\anaconda3\\lib\\site-packages (from kaggle) (2.0.7)\n",
      "Requirement already satisfied: bleach in c:\\users\\tarun\\anaconda3\\lib\\site-packages (from kaggle) (4.1.0)\n",
      "Requirement already satisfied: packaging in c:\\users\\tarun\\anaconda3\\lib\\site-packages (from bleach->kaggle) (23.1)\n",
      "Requirement already satisfied: webencodings in c:\\users\\tarun\\anaconda3\\lib\\site-packages (from bleach->kaggle) (0.5.1)\n",
      "Requirement already satisfied: text-unidecode>=1.3 in c:\\users\\tarun\\anaconda3\\lib\\site-packages (from python-slugify->kaggle) (1.3)\n",
      "Requirement already satisfied: charset-normalizer<4,>=2 in c:\\users\\tarun\\anaconda3\\lib\\site-packages (from requests->kaggle) (2.0.4)\n",
      "Requirement already satisfied: idna<4,>=2.5 in c:\\users\\tarun\\anaconda3\\lib\\site-packages (from requests->kaggle) (3.4)\n",
      "Requirement already satisfied: colorama in c:\\users\\tarun\\anaconda3\\lib\\site-packages (from tqdm->kaggle) (0.4.6)\n"
     ]
    }
   ],
   "source": [
    "!pip install kaggle"
   ]
  },
  {
   "cell_type": "code",
   "execution_count": 2,
   "id": "a04dbfc3-40d7-4891-a974-e7b1b5846182",
   "metadata": {},
   "outputs": [],
   "source": [
    "import kaggle"
   ]
  },
  {
   "cell_type": "code",
   "execution_count": 2,
   "id": "315dc1a8-73ff-45ea-8a40-975cd29aeee1",
   "metadata": {},
   "outputs": [
    {
     "name": "stderr",
     "output_type": "stream",
     "text": [
      "usage: kaggle [-h] [-v] [-W]\n",
      "              {competitions,c,datasets,d,kernels,k,models,m,files,f,config}\n",
      "              ...\n",
      "kaggle: error: argument command: invalid choice: 'dataset' (choose from 'competitions', 'c', 'datasets', 'd', 'kernels', 'k', 'models', 'm', 'files', 'f', 'config')\n"
     ]
    }
   ],
   "source": [
    "!kaggle dataset download tarunv09/netflix-dataset -f netflix.csv"
   ]
  },
  {
   "cell_type": "code",
   "execution_count": 4,
   "id": "91ac4c40-c432-43b4-8f49-4fa35490b788",
   "metadata": {},
   "outputs": [],
   "source": [
    "import pandas as pd"
   ]
  },
  {
   "cell_type": "code",
   "execution_count": 5,
   "id": "d6a11f82-5f63-42ad-a3b2-59c9db831d88",
   "metadata": {},
   "outputs": [],
   "source": [
    "import sqlalchemy as sal"
   ]
  },
  {
   "cell_type": "code",
   "execution_count": null,
   "id": "d4b28866-8c11-4da0-bfe3-1aaa19bc36cc",
   "metadata": {},
   "outputs": [],
   "source": [
    "engine = sal.create_engine('mssql://TARUN\\SQLEXPRESS/master?driver = ODBC+DRIVER+17+SQL+SERVER')"
   ]
  },
  {
   "cell_type": "code",
   "execution_count": null,
   "id": "fdb55e1f-33c9-4658-9aaa-6127e3f293d2",
   "metadata": {},
   "outputs": [],
   "source": [
    "conn = engine.connect()"
   ]
  },
  {
   "cell_type": "code",
   "execution_count": null,
   "id": "2d811daa-8470-4358-9c3e-27f4db59a2ff",
   "metadata": {},
   "outputs": [],
   "source": [
    "df.to_sql('netflix', con=conn , index=False, if_exists = 'append')\n",
    "conn.close()"
   ]
  },
  {
   "cell_type": "code",
   "execution_count": null,
   "id": "15a4241a-fcf2-4a11-9bb5-67fa254b51e5",
   "metadata": {},
   "outputs": [],
   "source": [
    "df.head()"
   ]
  },
  {
   "cell_type": "code",
   "execution_count": null,
   "id": "a7ff5284-d58c-466d-ae98-1c69da8e1914",
   "metadata": {},
   "outputs": [],
   "source": [
    "df[df.show_id=='s5023']"
   ]
  },
  {
   "cell_type": "code",
   "execution_count": null,
   "id": "a5195571-dcae-4aeb-90af-d82c81079e18",
   "metadata": {},
   "outputs": [],
   "source": [
    "max(df.description.dropna().str.len())"
   ]
  },
  {
   "cell_type": "code",
   "execution_count": null,
   "id": "d2e4b179-a8cd-4fcd-b968-e6ed1b2ab09e",
   "metadata": {},
   "outputs": [],
   "source": [
    "df.isna().sum()"
   ]
  }
 ],
 "metadata": {
  "kernelspec": {
   "display_name": "Python 3 (ipykernel)",
   "language": "python",
   "name": "python3"
  },
  "language_info": {
   "codemirror_mode": {
    "name": "ipython",
    "version": 3
   },
   "file_extension": ".py",
   "mimetype": "text/x-python",
   "name": "python",
   "nbconvert_exporter": "python",
   "pygments_lexer": "ipython3",
   "version": "3.11.7"
  }
 },
 "nbformat": 4,
 "nbformat_minor": 5
}
